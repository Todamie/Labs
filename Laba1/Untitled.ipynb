{
 "cells": [
  {
   "cell_type": "code",
   "execution_count": 5,
   "id": "b7d0b483",
   "metadata": {},
   "outputs": [],
   "source": [
    "import os\n",
    "import torch\n",
    "import torch.nn as nn\n",
    "import torch.optim as optim\n",
    "import torchvision.transforms as transforms\n",
    "import torchvision.datasets as datasets\n",
    "from efficientnet_pytorch import EfficientNet\n",
    "from torch.utils.data import DataLoader\n",
    "\n",
    "# Путь к папкам с данными\n",
    "data_dir = 'C:\\\\Users\\\\pelevinmd\\\\Desktop\\\\data'\n",
    "\n",
    "# Размер батча и количество эпох\n",
    "batch_size = 4\n",
    "num_epochs = 5\n",
    "\n",
    "# Преобразования изображений\n",
    "transform = transforms.Compose([\n",
    "    transforms.Resize((224, 224)),\n",
    "    transforms.ToTensor(),\n",
    "    transforms.Normalize(mean=[0.485, 0.456, 0.406], std=[0.229, 0.224, 0.225])  # Нормализация средних значений и стандартных отклонений для ImageNet\n",
    "])"
   ]
  },
  {
   "cell_type": "code",
   "execution_count": 6,
   "id": "f7528332",
   "metadata": {},
   "outputs": [
    {
     "name": "stdout",
     "output_type": "stream",
     "text": [
      "Loaded pretrained weights for efficientnet-b0\n"
     ]
    }
   ],
   "source": [
    "# Загрузка тренировочного и тестового датасетов\n",
    "train_dataset = datasets.ImageFolder(os.path.join(data_dir, 'cars_train'), transform=transform)\n",
    "test_dataset = datasets.ImageFolder(os.path.join(data_dir, 'cars_test'), transform=transform)\n",
    "\n",
    "# Создание загрузчиков данных\n",
    "train_loader = DataLoader(train_dataset, batch_size=batch_size, shuffle=True, num_workers=4)\n",
    "test_loader = DataLoader(test_dataset, batch_size=batch_size, shuffle=False, num_workers=4)\n",
    "\n",
    "# Инициализация модели EfficientNet\n",
    "model = EfficientNet.from_pretrained('efficientnet-b0', num_classes=196)  # Загрузка предварительно обученных весов для EfficientNet-B0\n",
    "\n",
    "# Определение функции потерь и оптимизатора\n",
    "criterion = nn.CrossEntropyLoss()\n",
    "optimizer = optim.NAdam(model.parameters())\n",
    "\n",
    "# Перемещение модели на графический процессор, если доступен\n",
    "device = torch.device('cuda' if torch.cuda.is_available() else 'cpu')\n",
    "model = model.to(device)\n"
   ]
  },
  {
   "cell_type": "code",
   "execution_count": 7,
   "id": "4119d98b",
   "metadata": {},
   "outputs": [
    {
     "name": "stdout",
     "output_type": "stream",
     "text": [
      "Epoch [1/5] - Train Loss: 0.0135 - Train Accuracy: 99.93% - Test Loss: 0.0032 - Test Accuracy: 99.98%\n",
      "Epoch [2/5] - Train Loss: 0.0000 - Train Accuracy: 100.00% - Test Loss: 0.0016 - Test Accuracy: 99.99%\n",
      "Epoch [3/5] - Train Loss: 0.0000 - Train Accuracy: 100.00% - Test Loss: 0.0025 - Test Accuracy: 99.99%\n",
      "Epoch [4/5] - Train Loss: 0.0000 - Train Accuracy: 100.00% - Test Loss: 0.0005 - Test Accuracy: 100.00%\n",
      "Epoch [5/5] - Train Loss: 0.0000 - Train Accuracy: 100.00% - Test Loss: 0.0019 - Test Accuracy: 99.98%\n"
     ]
    }
   ],
   "source": [
    "# Обучение модели\n",
    "for epoch in range(num_epochs):\n",
    "    model.train()\n",
    "    train_loss = 0.0\n",
    "    correct = 0\n",
    "    total = 0\n",
    "    \n",
    "    for images, labels in train_loader:\n",
    "        images = images.to(device)\n",
    "        labels = labels.to(device)\n",
    "        \n",
    "        optimizer.zero_grad()\n",
    "        outputs = model(images)\n",
    "        loss = criterion(outputs, labels)\n",
    "        loss.backward()\n",
    "        optimizer.step()\n",
    "        \n",
    "        train_loss += loss.item()\n",
    "        _, predicted = outputs.max(1)\n",
    "        total += labels.size(0)\n",
    "        correct += predicted.eq(labels).sum().item()\n",
    "    \n",
    "    train_loss /= len(train_loader)\n",
    "    train_accuracy = correct / total\n",
    "    \n",
    "    # Вычисление точности на тестовом датасете после каждой эпохи\n",
    "    model.eval()\n",
    "    test_loss = 0.0\n",
    "    correct = 0\n",
    "    total = 0\n",
    "    \n",
    "    with torch.no_grad():\n",
    "        for images, labels in test_loader:\n",
    "            images = images.to(device)\n",
    "            labels = labels.to(device)\n",
    "            \n",
    "            outputs = model(images)\n",
    "            loss = criterion(outputs, labels)\n",
    "            \n",
    "            test_loss += loss.item()\n",
    "            _, predicted = outputs.max(1)\n",
    "            total += labels.size(0)\n",
    "            correct += predicted.eq(labels).sum().item()\n",
    "    \n",
    "    test_loss /= len(test_loader)\n",
    "    test_accuracy = correct / total\n",
    "    \n",
    "    print(f'Epoch [{epoch+1}/{num_epochs}] - Train Loss: {train_loss:.4f} - Train Accuracy: {100*train_accuracy:.2f}% - Test Loss: {test_loss:.4f} - Test Accuracy: {100*test_accuracy:.2f}%')"
   ]
  },
  {
   "cell_type": "code",
   "execution_count": null,
   "id": "b7b02eec",
   "metadata": {},
   "outputs": [],
   "source": []
  }
 ],
 "metadata": {
  "kernelspec": {
   "display_name": "Python 3 (ipykernel)",
   "language": "python",
   "name": "python3"
  },
  "language_info": {
   "codemirror_mode": {
    "name": "ipython",
    "version": 3
   },
   "file_extension": ".py",
   "mimetype": "text/x-python",
   "name": "python",
   "nbconvert_exporter": "python",
   "pygments_lexer": "ipython3",
   "version": "3.11.3"
  }
 },
 "nbformat": 4,
 "nbformat_minor": 5
}
